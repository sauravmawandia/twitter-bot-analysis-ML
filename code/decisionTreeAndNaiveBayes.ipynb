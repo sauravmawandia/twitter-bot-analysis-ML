{
 "cells": [
  {
   "cell_type": "code",
   "execution_count": 1,
   "metadata": {
    "collapsed": true
   },
   "outputs": [],
   "source": [
    "%matplotlib inline\n",
    "import matplotlib.pyplot as plt\n",
    "import pandas as pd\n",
    "import sklearn\n",
    "import numpy as np\n",
    "from sklearn.naive_bayes import MultinomialNB\n",
    "from sklearn import tree\n",
    "from sklearn.metrics import classification_report, f1_score, accuracy_score, confusion_matrix\n",
    "from sklearn.model_selection import train_test_split\n",
    "from sklearn import metrics"
   ]
  },
  {
   "cell_type": "code",
   "execution_count": 2,
   "metadata": {
    "collapsed": true
   },
   "outputs": [],
   "source": [
    "twitterBots = pd.read_csv('bots_data.csv',encoding='latin-1')\n",
    "twitterNonBots=pd.read_csv('nonbots_data.csv',encoding='latin-1')"
   ]
  },
  {
   "cell_type": "code",
   "execution_count": 3,
   "metadata": {
    "collapsed": true
   },
   "outputs": [],
   "source": [
    "dfList=[twitterBots,twitterNonBots]\n",
    "user = pd.concat(dfList)"
   ]
  },
  {
   "cell_type": "code",
   "execution_count": 4,
   "metadata": {
    "collapsed": true
   },
   "outputs": [],
   "source": [
    "df=user\n",
    "df['location']=np.where(pd.isnull(user[\"location\"]), False, True)\n",
    "df['description']=np.where(pd.isnull(user[\"description\"]), False, True)\n",
    "df['url']=np.where(pd.isnull(user[\"url\"]), False, True)\n",
    "df['has_extended_profile']=np.where(user[\"has_extended_profile\"]=='False', False, True)"
   ]
  },
  {
   "cell_type": "code",
   "execution_count": 5,
   "metadata": {
    "collapsed": false
   },
   "outputs": [
    {
     "name": "stderr",
     "output_type": "stream",
     "text": [
      "C:\\Users\\Ayush jain\\Anaconda3\\lib\\site-packages\\sklearn\\cross_validation.py:44: DeprecationWarning: This module was deprecated in version 0.18 in favor of the model_selection module into which all the refactored classes and functions are moved. Also note that the interface of the new CV iterators are different from that of this module. This module will be removed in 0.20.\n",
      "  \"This module will be removed in 0.20.\", DeprecationWarning)\n"
     ]
    }
   ],
   "source": [
    "from sklearn.cross_validation import train_test_split\n",
    "X_train, X_test, Y_train, Y_test = train_test_split(df[['location','description','url','has_extended_profile','listedcount',\n",
    "                                                        'favourites_count','statuses_count','default_profile',\n",
    "                                                        'default_profile_image','has_extended_profile','followers_count',\n",
    "                                                        'friends_count']],df['bot'] ,test_size=0.2, random_state=0)"
   ]
  },
  {
   "cell_type": "code",
   "execution_count": 6,
   "metadata": {
    "collapsed": false
   },
   "outputs": [],
   "source": [
    "clf = MultinomialNB()\n",
    "model= clf.fit(X_train,Y_train)"
   ]
  },
  {
   "cell_type": "code",
   "execution_count": 7,
   "metadata": {
    "collapsed": false
   },
   "outputs": [
    {
     "name": "stdout",
     "output_type": "stream",
     "text": [
      "Accuracy of Naive Baye is 68.4563758389 %\n",
      "             precision    recall  f1-score   support\n",
      "\n",
      "          0       0.94      0.39      0.55       222\n",
      "          1       0.62      0.97      0.76       225\n",
      "\n",
      "avg / total       0.78      0.68      0.66       447\n",
      "\n"
     ]
    }
   ],
   "source": [
    "predictedNB=model.predict(X_test)\n",
    "print('Accuracy of Naive Baye is',accuracy_score(Y_test,predictedNB)*100,'%')\n",
    "print(metrics.classification_report(Y_test,predictedNB))"
   ]
  },
  {
   "cell_type": "code",
   "execution_count": 8,
   "metadata": {
    "collapsed": true
   },
   "outputs": [],
   "source": [
    "dt = tree.DecisionTreeClassifier()\n",
    "dt = dt.fit(X_train, Y_train)\n"
   ]
  },
  {
   "cell_type": "code",
   "execution_count": 9,
   "metadata": {
    "collapsed": false
   },
   "outputs": [
    {
     "name": "stdout",
     "output_type": "stream",
     "text": [
      "Accuracy of Naive Baye is 83.6689038031 %\n",
      "             precision    recall  f1-score   support\n",
      "\n",
      "          0       0.82      0.86      0.84       222\n",
      "          1       0.85      0.82      0.83       225\n",
      "\n",
      "avg / total       0.84      0.84      0.84       447\n",
      "\n"
     ]
    }
   ],
   "source": [
    "model= clf.fit(X_train,Y_train)\n",
    "predictedDT=dt.predict(X_test)\n",
    "print('Accuracy of Naive Baye is',accuracy_score(Y_test,predictedDT)*100,'%')\n",
    "print(metrics.classification_report(Y_test,predictedDT))"
   ]
  },
  {
   "cell_type": "code",
   "execution_count": 10,
   "metadata": {
    "collapsed": false
   },
   "outputs": [
    {
     "name": "stdout",
     "output_type": "stream",
     "text": [
      "AUC score for Naive Bayes is 0.682612612613\n"
     ]
    }
   ],
   "source": [
    "print(\"AUC score for Naive Bayes is\",metrics.roc_auc_score(Y_test, predictedNB))"
   ]
  },
  {
   "cell_type": "code",
   "execution_count": 11,
   "metadata": {
    "collapsed": false
   },
   "outputs": [
    {
     "name": "stdout",
     "output_type": "stream",
     "text": [
      "AUC score for Decision Tree is 0.836816816817\n"
     ]
    }
   ],
   "source": [
    "print(\"AUC score for Decision Tree is\",metrics.roc_auc_score(Y_test, predictedDT))"
   ]
  }
 ],
 "metadata": {
  "kernelspec": {
   "display_name": "Python 3",
   "language": "python",
   "name": "python3"
  },
  "language_info": {
   "codemirror_mode": {
    "name": "ipython",
    "version": 3
   },
   "file_extension": ".py",
   "mimetype": "text/x-python",
   "name": "python",
   "nbconvert_exporter": "python",
   "pygments_lexer": "ipython3",
   "version": "3.6.0"
  }
 },
 "nbformat": 4,
 "nbformat_minor": 2
}
