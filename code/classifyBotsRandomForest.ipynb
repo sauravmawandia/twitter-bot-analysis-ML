{
 "cells": [
  {
   "cell_type": "code",
   "execution_count": 1,
   "metadata": {
    "collapsed": true
   },
   "outputs": [],
   "source": [
    "import pandas as pd\n",
    "import numpy as np\n",
    "from sklearn.ensemble import RandomForestClassifier\n",
    "from sklearn.metrics import accuracy_score\n",
    "from sklearn.model_selection import train_test_split\n",
    "from sklearn import metrics"
   ]
  },
  {
   "cell_type": "code",
   "execution_count": 2,
   "metadata": {
    "collapsed": true
   },
   "outputs": [],
   "source": [
    "twitterBots = pd.read_csv('../data/bots_data.csv',encoding='latin-1')\n",
    "twitterNonBots=pd.read_csv('../data/nonbots_data.csv',encoding='latin-1')\n",
    "dfList=[twitterBots,twitterNonBots]\n",
    "user = pd.concat(dfList)"
   ]
  },
  {
   "cell_type": "markdown",
   "metadata": {},
   "source": []
  },
  {
   "cell_type": "code",
   "execution_count": 3,
   "metadata": {
    "collapsed": false
   },
   "outputs": [],
   "source": [
    "df=user\n",
    "df['location']=np.where(pd.isnull(user[\"location\"]), False, True)\n",
    "df['description']=np.where(pd.isnull(user[\"description\"]), False, True)\n",
    "df['url']=np.where(pd.isnull(user[\"url\"]), False, True)\n",
    "df['has_extended_profile']=np.where(user[\"has_extended_profile\"]=='False', False, True)"
   ]
  },
  {
   "cell_type": "code",
   "execution_count": 47,
   "metadata": {
    "collapsed": false
   },
   "outputs": [],
   "source": [
    "from sklearn.cross_validation import train_test_split\n",
    "X_train, X_test, Y_train, Y_test = train_test_split(df[['location','description','url','has_extended_profile','listedcount',\n",
    "                                                       'favourites_count','statuses_count','default_profile',\n",
    "                                                       'default_profile_image','has_extended_profile','followers_count',\n",
    "                                                       'friends_count']],df['bot'] ,test_size=0.3, random_state=0)"
   ]
  },
  {
   "cell_type": "code",
   "execution_count": 53,
   "metadata": {
    "collapsed": false
   },
   "outputs": [
    {
     "name": "stdout",
     "output_type": "stream",
     "text": [
      "Accuracy of RandomForest is 84.6268656716 %\n",
      "             precision    recall  f1-score   support\n",
      "\n",
      "          0       0.85      0.85      0.85       342\n",
      "          1       0.84      0.85      0.84       328\n",
      "\n",
      "avg / total       0.85      0.85      0.85       670\n",
      "\n",
      "AUC Score for Random forest is 0.846295107688\n"
     ]
    }
   ],
   "source": [
    "clf=RandomForestClassifier(criterion='gini',min_samples_split=10,min_samples_leaf=50)\n",
    "model= clf.fit(X_train,Y_train)\n",
    "predicted=model.predict(X_test)\n",
    "print('Accuracy of RandomForest is',accuracy_score(Y_test,predicted)*100,'%')\n",
    "print(metrics.classification_report(Y_test,predicted))\n",
    "print('AUC Score for Random forest is',metrics.roc_auc_score(Y_test, predicted))"
   ]
  },
  {
   "cell_type": "code",
   "execution_count": null,
   "metadata": {
    "collapsed": true
   },
   "outputs": [],
   "source": []
  },
  {
   "cell_type": "code",
   "execution_count": null,
   "metadata": {
    "collapsed": true
   },
   "outputs": [],
   "source": []
  }
 ],
 "metadata": {
  "kernelspec": {
   "display_name": "Python 3",
   "language": "python",
   "name": "python3"
  },
  "language_info": {
   "codemirror_mode": {
    "name": "ipython",
    "version": 3
   },
   "file_extension": ".py",
   "mimetype": "text/x-python",
   "name": "python",
   "nbconvert_exporter": "python",
   "pygments_lexer": "ipython3",
   "version": "3.6.0"
  }
 },
 "nbformat": 4,
 "nbformat_minor": 0
}
