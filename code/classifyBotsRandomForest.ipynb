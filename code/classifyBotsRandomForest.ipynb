{
 "cells": [
  {
   "cell_type": "code",
   "execution_count": 352,
   "metadata": {
    "collapsed": false
   },
   "outputs": [],
   "source": [
    "import pandas as pd\n",
    "import numpy as np\n",
    "from sklearn.ensemble import RandomForestClassifier\n",
    "from sklearn.metrics import accuracy_score\n",
    "from sklearn.model_selection import train_test_split\n",
    "from sklearn import metrics\n",
    "import matplotlib.pyplot as plt\n",
    "import seaborn as sns\n",
    "from matplotlib.mlab import PCA"
   ]
  },
  {
   "cell_type": "code",
   "execution_count": 353,
   "metadata": {
    "collapsed": false
   },
   "outputs": [],
   "source": [
    "twitterBots = pd.read_csv('../data/bots_data.csv',encoding='latin-1')\n",
    "twitterNonBots=pd.read_csv('../data/nonbots_data.csv',encoding='latin-1')\n",
    "user=pd.read_csv('../data/training_data_2_csv_UTF.csv',encoding='latin-1')\n",
    "test=pd.read_csv('../data/test_data_4_students.csv')\n",
    "#dfList=[twitterBots,twitterNonBots]\n",
    "#user = pd.concat(dfList)\n",
    "\n"
   ]
  },
  {
   "cell_type": "markdown",
   "metadata": {},
   "source": [
    "user"
   ]
  },
  {
   "cell_type": "code",
   "execution_count": 354,
   "metadata": {
    "collapsed": false
   },
   "outputs": [
    {
     "data": {
      "text/plain": [
       "0       False\n",
       "1       False\n",
       "2       False\n",
       "3        True\n",
       "4       False\n",
       "5       False\n",
       "6       False\n",
       "7       False\n",
       "8       False\n",
       "9       False\n",
       "10      False\n",
       "11       True\n",
       "12       True\n",
       "13       True\n",
       "14       True\n",
       "15      False\n",
       "16      False\n",
       "17      False\n",
       "18       True\n",
       "19       True\n",
       "20      False\n",
       "21      False\n",
       "22      False\n",
       "23      False\n",
       "24      False\n",
       "25      False\n",
       "26      False\n",
       "27      False\n",
       "28      False\n",
       "29      False\n",
       "        ...  \n",
       "2767    False\n",
       "2768    False\n",
       "2769    False\n",
       "2770    False\n",
       "2771    False\n",
       "2772    False\n",
       "2773    False\n",
       "2774    False\n",
       "2775    False\n",
       "2776    False\n",
       "2777    False\n",
       "2778    False\n",
       "2779    False\n",
       "2780    False\n",
       "2781    False\n",
       "2782    False\n",
       "2783    False\n",
       "2784    False\n",
       "2785    False\n",
       "2786    False\n",
       "2787    False\n",
       "2788     True\n",
       "2789    False\n",
       "2790    False\n",
       "2791    False\n",
       "2792    False\n",
       "2793    False\n",
       "2794    False\n",
       "2795    False\n",
       "2796    False\n",
       "Name: default_profile_image, dtype: bool"
      ]
     },
     "execution_count": 354,
     "metadata": {},
     "output_type": "execute_result"
    }
   ],
   "source": [
    "df=user\n",
    "#w['female'] = w['female'].map({'female': 1, 'male': 0})\n",
    "df['favourites_count'].replace(['None'], '0')\n",
    "df['default_profile'].replace(['None'], False)\n",
    "df['default_profile_image'].replace(['None'], False)\n",
    "\n",
    "#df['favourites_count']=np.where(pd.isnull(user['favourites_count']),0 ,df['favourites_count'])\n",
    "#default_profile\n",
    "#default_profile_image\n",
    "#has_extended_profile\n",
    "#\n"
   ]
  },
  {
   "cell_type": "code",
   "execution_count": 355,
   "metadata": {
    "collapsed": false
   },
   "outputs": [],
   "source": [
    "tf = tf.rename(columns={'favorites_count': 'favourites_count'})\n",
    "tf=test\n",
    "#w['female'] = w['female'].map({'female': 1, 'male': 0})\n",
    "tf['favorites_count']=tf['favorites_count'].replace(['None'], 0)\n",
    "tf['default_profile']=tf['default_profile'].replace(['None'], False)\n",
    "tf['default_profile_image']=tf['default_profile_image'].replace(['None'], False)\n",
    "tf['favorites_count']=tf['favorites_count'].replace(['FALSE'], False)\n",
    "tf['favorites_count']=tf['favorites_count'].replace(['TRUE'], True)\n",
    "tf['favorites_count']=tf['favorites_count'].replace(['None'], False)\n",
    "tf['default_profile']=tf['default_profile'].replace(['FALSE'], False)\n",
    "tf['default_profile']=tf['default_profile'].replace(['TRUE'], True)\n",
    "tf['default_profile']=tf['default_profile'].replace(['None'], False)\n",
    "tf['default_profile_image']=tf['default_profile_image'].replace(['FALSE'], False)\n",
    "tf['default_profile_image']=tf['default_profile_image'].replace(['TRUE'], True)\n",
    "tf['default_profile_image']=tf['default_profile_image'].replace(['None'], False)\n",
    "tf['verified']=tf['verified'].replace(['TRUE'], True)\n",
    "tf['verified']=tf['verified'].replace(['FALSE'], False)\n",
    "tf['verified']=tf['verified'].replace(['None'], False)\n",
    "tf['followers_count']=tf['followers_count'].replace(['None'], 0)\n",
    "tf['friends_count']=tf['friends_count'].replace(['None'], 0)\n",
    "tf['statuses_count']=tf['statuses_count'].replace(['None'], 0)\n",
    "#df['favourites_count']=np.where(pd.isnull(user['favourites_count']),0 ,df['favourites_count'])\n",
    "#default_profile\n",
    "#default_profile_image\n",
    "#has_extended_profile\n",
    "#\n",
    "\n"
   ]
  },
  {
   "cell_type": "code",
   "execution_count": null,
   "metadata": {
    "collapsed": false
   },
   "outputs": [],
   "source": []
  },
  {
   "cell_type": "code",
   "execution_count": 356,
   "metadata": {
    "collapsed": false
   },
   "outputs": [],
   "source": [
    "from sklearn.cross_validation import train_test_split\n",
    "X_train, X_test, Y_train, Y_test = train_test_split(df[['followers_count',\n",
    "                                                        'friends_count','statuses_count','verified',\n",
    "\n",
    "                                                        'favourites_count','default_profile','default_profile_image']],df['bot'] ,test_size=0.3, random_state=0)"
   ]
  },
  {
   "cell_type": "code",
   "execution_count": 357,
   "metadata": {
    "collapsed": false
   },
   "outputs": [],
   "source": [
    "testData=tf[['followers_count','friends_count','statuses_count','verified','favorites_count','default_profile','default_profile_image']]\n",
    "testData=testData[:575]"
   ]
  },
  {
   "cell_type": "code",
   "execution_count": 358,
   "metadata": {
    "collapsed": false
   },
   "outputs": [],
   "source": [
    "clf=RandomForestClassifier(criterion='entropy',min_samples_split=10,min_samples_leaf=10)\n",
    "model= clf.fit(X_train,Y_train)\n",
    "predicted=model.predict(testData)\n",
    "#print('Accuracy of RandomForest is',accuracy_score(Y_test,predicted)*100,'%')\n",
    "#print(metrics.classification_report(Y_test,predicted))\n",
    "#print('AUC Score for Random forest is',metrics.roc_auc_score(Y_test, predicted))"
   ]
  },
  {
   "cell_type": "code",
   "execution_count": 359,
   "metadata": {
    "collapsed": false
   },
   "outputs": [
    {
     "data": {
      "text/plain": [
       "array([0, 0, 0, 0, 1, 1, 1, 1, 0, 0, 1, 0, 0, 0, 0, 0, 0, 0, 1, 1, 0, 0, 0,\n",
       "       0, 0, 0, 0, 0, 0, 0, 1, 0, 0, 0, 1, 1, 0, 1, 1, 0, 1, 0, 0, 1, 0, 0,\n",
       "       0, 0, 0, 0, 0, 1, 0, 1, 0, 0, 0, 1, 0, 0, 0, 1, 0, 0, 0, 0, 0, 1, 0,\n",
       "       1, 1, 1, 1, 1, 1, 1, 0, 0, 0, 0, 0, 1, 0, 0, 1, 0, 0, 0, 0, 0, 0, 0,\n",
       "       0, 0, 0, 0, 0, 0, 0, 0, 0, 1, 0, 0, 0, 0, 0, 1, 1, 0, 0, 1, 0, 0, 0,\n",
       "       1, 0, 1, 1, 1, 0, 0, 0, 1, 1, 0, 0, 0, 0, 0, 0, 0, 0, 0, 0, 1, 1, 0,\n",
       "       0, 0, 1, 0, 0, 0, 0, 1, 0, 1, 0, 0, 1, 0, 0, 0, 1, 1, 0, 0, 0, 0, 0,\n",
       "       0, 1, 0, 0, 0, 0, 1, 0, 1, 1, 1, 0, 0, 1, 1, 1, 1, 1, 1, 1, 0, 1, 1,\n",
       "       1, 1, 0, 0, 1, 1, 0, 0, 1, 0, 0, 1, 1, 1, 1, 0, 1, 1, 0, 1, 0, 1, 1,\n",
       "       0, 0, 0, 0, 0, 1, 0, 1, 1, 0, 1, 0, 0, 1, 0, 0, 0, 0, 0, 0, 1, 0, 0,\n",
       "       0, 1, 0, 0, 0, 0, 0, 0, 0, 0, 0, 1, 1, 0, 1, 1, 0, 0, 0, 0, 1, 0, 1,\n",
       "       0, 0, 0, 0, 1, 0, 0, 1, 0, 1, 1, 0, 1, 0, 0, 0, 1, 0, 0, 1, 1, 0, 1,\n",
       "       0, 0, 0, 0, 0, 0, 1, 0, 0, 1, 1, 1, 0, 1, 1, 1, 0, 0, 0, 1, 0, 0, 1,\n",
       "       1, 1, 1, 0, 0, 0, 0, 0, 0, 0, 0, 1, 1, 1, 0, 1, 0, 0, 0, 0, 0, 0, 1,\n",
       "       1, 1, 0, 0, 0, 0, 0, 0, 1, 0, 0, 0, 1, 1, 0, 0, 0, 0, 0, 0, 0, 0, 0,\n",
       "       0, 1, 1, 1, 0, 0, 0, 1, 1, 0, 1, 1, 0, 1, 0, 0, 1, 0, 1, 1, 0, 0, 1,\n",
       "       0, 0, 0, 0, 0, 0, 0, 0, 1, 0, 1, 0, 0, 0, 0, 0, 1, 1, 1, 1, 0, 1, 1,\n",
       "       1, 1, 1, 1, 0, 0, 1, 0, 1, 1, 0, 1, 0, 0, 0, 0, 0, 1, 0, 1, 0, 1, 0,\n",
       "       0, 0, 0, 0, 0, 0, 1, 0, 0, 0, 0, 0, 0, 0, 0, 0, 1, 0, 1, 0, 0, 0, 1,\n",
       "       1, 1, 0, 0, 1, 0, 1, 0, 1, 0, 0, 1, 0, 1, 1, 0, 0, 0, 0, 1, 1, 1, 1,\n",
       "       0, 1, 1, 1, 1, 0, 0, 1, 1, 0, 1, 0, 0, 1, 0, 0, 0, 1, 0, 1, 1, 1, 1,\n",
       "       1, 1, 0, 0, 0, 1, 1, 1, 0, 0, 0, 0, 0, 0, 1, 0, 0, 0, 0, 0, 0, 0, 0,\n",
       "       0, 0, 0, 0, 0, 0, 0, 0, 0, 0, 0, 1, 0, 0, 0, 0, 0, 1, 0, 0, 0, 0, 0,\n",
       "       0, 0, 0, 0, 0, 0, 0, 1, 0, 0, 0, 0, 0, 0, 1, 1, 1, 1, 1, 1, 0, 1, 0,\n",
       "       0, 0, 1, 1, 0, 0, 1, 1, 0, 0, 0, 1, 1, 1, 1, 1, 1, 0, 1, 0, 1, 0, 1], dtype=int64)"
      ]
     },
     "execution_count": 359,
     "metadata": {},
     "output_type": "execute_result"
    }
   ],
   "source": [
    "predicted\n"
   ]
  },
  {
   "cell_type": "code",
   "execution_count": 360,
   "metadata": {
    "collapsed": false
   },
   "outputs": [],
   "source": [
    "af=test[:575]"
   ]
  },
  {
   "cell_type": "code",
   "execution_count": 361,
   "metadata": {
    "collapsed": false
   },
   "outputs": [
    {
     "name": "stderr",
     "output_type": "stream",
     "text": [
      "C:\\Users\\saura\\Anaconda3\\lib\\site-packages\\ipykernel\\__main__.py:1: SettingWithCopyWarning: \n",
      "A value is trying to be set on a copy of a slice from a DataFrame.\n",
      "Try using .loc[row_indexer,col_indexer] = value instead\n",
      "\n",
      "See the caveats in the documentation: http://pandas.pydata.org/pandas-docs/stable/indexing.html#indexing-view-versus-copy\n",
      "  if __name__ == '__main__':\n"
     ]
    }
   ],
   "source": [
    "af['bot']=predicted\n",
    "nf=af[['id','bot']]"
   ]
  },
  {
   "cell_type": "code",
   "execution_count": 363,
   "metadata": {
    "collapsed": false
   },
   "outputs": [
    {
     "data": {
      "text/plain": [
       "0      2.281293e+09\n",
       "1      2.344040e+09\n",
       "2      7.658713e+08\n",
       "3      4.772373e+09\n",
       "4      1.324549e+09\n",
       "5      2.561342e+09\n",
       "6      3.478101e+08\n",
       "7      8.563039e+08\n",
       "8      8.328750e+17\n",
       "9      8.885679e+07\n",
       "10     7.135570e+17\n",
       "11     1.566747e+09\n",
       "12     9.042031e+07\n",
       "13     1.849100e+08\n",
       "14     1.576906e+08\n",
       "15     4.242035e+07\n",
       "16     4.238245e+07\n",
       "17     4.399328e+07\n",
       "18     2.305237e+09\n",
       "19     7.427940e+17\n",
       "20     3.134859e+07\n",
       "21     1.220859e+08\n",
       "22     2.357308e+07\n",
       "23     4.315248e+07\n",
       "24     1.888575e+08\n",
       "25     2.911273e+09\n",
       "26     3.509464e+07\n",
       "27     1.462528e+08\n",
       "28     8.543087e+07\n",
       "29     5.511786e+07\n",
       "           ...     \n",
       "545    7.312010e+17\n",
       "546    6.127548e+08\n",
       "547    4.493562e+09\n",
       "548    2.897137e+09\n",
       "549    7.895600e+07\n",
       "550    4.462343e+09\n",
       "551    3.830053e+09\n",
       "552    5.866719e+08\n",
       "553    3.328881e+08\n",
       "554    7.569370e+17\n",
       "555    2.163813e+09\n",
       "556    2.602313e+09\n",
       "557    8.130000e+17\n",
       "558    3.558834e+08\n",
       "559    3.229507e+09\n",
       "560    2.032293e+07\n",
       "561    1.671255e+07\n",
       "562    2.684399e+08\n",
       "563    2.566952e+09\n",
       "564    1.746327e+08\n",
       "565    8.432704e+08\n",
       "566    2.564439e+09\n",
       "567    3.427375e+08\n",
       "568    5.660780e+08\n",
       "569    2.688096e+08\n",
       "570    7.509990e+17\n",
       "571    1.022827e+07\n",
       "572    2.188339e+08\n",
       "573    1.765662e+08\n",
       "574    3.119555e+09\n",
       "Name: id, dtype: float64"
      ]
     },
     "execution_count": 363,
     "metadata": {},
     "output_type": "execute_result"
    }
   ],
   "source": [
    "nf.to_csv('test.csv', index = False)\n",
    "nf['id']"
   ]
  },
  {
   "cell_type": "code",
   "execution_count": null,
   "metadata": {
    "collapsed": true
   },
   "outputs": [],
   "source": []
  }
 ],
 "metadata": {
  "kernelspec": {
   "display_name": "Python 3",
   "language": "python",
   "name": "python3"
  },
  "language_info": {
   "codemirror_mode": {
    "name": "ipython",
    "version": 3
   },
   "file_extension": ".py",
   "mimetype": "text/x-python",
   "name": "python",
   "nbconvert_exporter": "python",
   "pygments_lexer": "ipython3",
   "version": "3.6.0"
  }
 },
 "nbformat": 4,
 "nbformat_minor": 0
}
